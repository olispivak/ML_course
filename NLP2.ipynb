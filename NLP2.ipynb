{
  "cells": [
    {
      "cell_type": "code",
      "execution_count": null,
      "id": "724ba997-b331-4fb1-899d-70f793a055a5",
      "metadata": {
        "id": "724ba997-b331-4fb1-899d-70f793a055a5",
        "outputId": "fa07edb7-6e6e-42a2-cf72-911b52a2bcd1"
      },
      "outputs": [
        {
          "name": "stdout",
          "output_type": "stream",
          "text": [
            "Requirement already satisfied: corus in ./jupiter_env/lib/python3.8/site-packages (0.10.0)\n",
            "Requirement already satisfied: pandas in ./jupiter_env/lib/python3.8/site-packages (2.0.3)\n",
            "Requirement already satisfied: python-dateutil>=2.8.2 in ./jupiter_env/lib/python3.8/site-packages (from pandas) (2.9.0.post0)\n",
            "Requirement already satisfied: pytz>=2020.1 in ./jupiter_env/lib/python3.8/site-packages (from pandas) (2024.1)\n",
            "Requirement already satisfied: tzdata>=2022.1 in ./jupiter_env/lib/python3.8/site-packages (from pandas) (2024.1)\n",
            "Requirement already satisfied: numpy>=1.20.3 in ./jupiter_env/lib/python3.8/site-packages (from pandas) (1.24.4)\n",
            "Requirement already satisfied: six>=1.5 in ./jupiter_env/lib/python3.8/site-packages (from python-dateutil>=2.8.2->pandas) (1.16.0)\n",
            "Requirement already satisfied: scikit-learn in ./jupiter_env/lib/python3.8/site-packages (1.3.2)\n",
            "Requirement already satisfied: numpy<2.0,>=1.17.3 in ./jupiter_env/lib/python3.8/site-packages (from scikit-learn) (1.24.4)\n",
            "Requirement already satisfied: scipy>=1.5.0 in ./jupiter_env/lib/python3.8/site-packages (from scikit-learn) (1.10.1)\n",
            "Requirement already satisfied: joblib>=1.1.1 in ./jupiter_env/lib/python3.8/site-packages (from scikit-learn) (1.4.2)\n",
            "Requirement already satisfied: threadpoolctl>=2.0.0 in ./jupiter_env/lib/python3.8/site-packages (from scikit-learn) (3.5.0)\n"
          ]
        }
      ],
      "source": [
        "!pip3 install corus\n",
        "!pip3 install pandas\n",
        "!pip3 install scikit-learn"
      ]
    },
    {
      "cell_type": "markdown",
      "source": [
        "Скачиваем файл с данными сайта lenta.ru"
      ],
      "metadata": {
        "id": "0uHwPlqN4RHE"
      },
      "id": "0uHwPlqN4RHE"
    },
    {
      "cell_type": "code",
      "execution_count": null,
      "id": "0e6d5253-bc82-4c3e-98dd-cb6c1235c9e4",
      "metadata": {
        "id": "0e6d5253-bc82-4c3e-98dd-cb6c1235c9e4"
      },
      "outputs": [],
      "source": [
        "!wget https://github.com/yutkin/Lenta.Ru-News-Dataset/releases/download/v1.1/lenta-ru-news.csv.bz2"
      ]
    },
    {
      "cell_type": "code",
      "execution_count": null,
      "id": "7a996e05-bed0-449a-b199-d995aecc03e0",
      "metadata": {
        "id": "7a996e05-bed0-449a-b199-d995aecc03e0"
      },
      "outputs": [],
      "source": [
        "!bzip2 -d lenta-ru-news.csv.bz2"
      ]
    },
    {
      "cell_type": "code",
      "execution_count": null,
      "id": "0c9cdb66-172d-4aa8-a5d5-1c2228bd2ce0",
      "metadata": {
        "id": "0c9cdb66-172d-4aa8-a5d5-1c2228bd2ce0",
        "outputId": "a1456ecb-1810-4f3f-f36f-2036988170ee"
      },
      "outputs": [
        {
          "name": "stdout",
          "output_type": "stream",
          "text": [
            "Записей в таблице: 800975\n"
          ]
        },
        {
          "name": "stderr",
          "output_type": "stream",
          "text": [
            "/tmp/ipykernel_43306/1410979440.py:2: DtypeWarning: Columns (3) have mixed types. Specify dtype option on import or set low_memory=False.\n",
            "  df_lenta = pd.read_csv('lenta-ru-news.csv', usecols=['text', 'topic'])\n"
          ]
        },
        {
          "data": {
            "text/html": [
              "<div>\n",
              "<style scoped>\n",
              "    .dataframe tbody tr th:only-of-type {\n",
              "        vertical-align: middle;\n",
              "    }\n",
              "\n",
              "    .dataframe tbody tr th {\n",
              "        vertical-align: top;\n",
              "    }\n",
              "\n",
              "    .dataframe thead th {\n",
              "        text-align: right;\n",
              "    }\n",
              "</style>\n",
              "<table border=\"1\" class=\"dataframe\">\n",
              "  <thead>\n",
              "    <tr style=\"text-align: right;\">\n",
              "      <th></th>\n",
              "      <th>text</th>\n",
              "      <th>topic</th>\n",
              "    </tr>\n",
              "  </thead>\n",
              "  <tbody>\n",
              "    <tr>\n",
              "      <th>0</th>\n",
              "      <td>Бои у Сопоцкина и Друскеник закончились отступ...</td>\n",
              "      <td>Библиотека</td>\n",
              "    </tr>\n",
              "    <tr>\n",
              "      <th>1</th>\n",
              "      <td>Министерство народного просвещения, в виду про...</td>\n",
              "      <td>Библиотека</td>\n",
              "    </tr>\n",
              "    <tr>\n",
              "      <th>2</th>\n",
              "      <td>Штабс-капитан П. Н. Нестеров на днях, увидев в...</td>\n",
              "      <td>Библиотека</td>\n",
              "    </tr>\n",
              "    <tr>\n",
              "      <th>3</th>\n",
              "      <td>Фотограф-корреспондент Daily Mirror рассказыва...</td>\n",
              "      <td>Библиотека</td>\n",
              "    </tr>\n",
              "    <tr>\n",
              "      <th>4</th>\n",
              "      <td>Лица, приехавшие в Варшаву из Люблина, передаю...</td>\n",
              "      <td>Библиотека</td>\n",
              "    </tr>\n",
              "  </tbody>\n",
              "</table>\n",
              "</div>"
            ],
            "text/plain": [
              "                                                text       topic\n",
              "0  Бои у Сопоцкина и Друскеник закончились отступ...  Библиотека\n",
              "1  Министерство народного просвещения, в виду про...  Библиотека\n",
              "2  Штабс-капитан П. Н. Нестеров на днях, увидев в...  Библиотека\n",
              "3  Фотограф-корреспондент Daily Mirror рассказыва...  Библиотека\n",
              "4  Лица, приехавшие в Варшаву из Люблина, передаю...  Библиотека"
            ]
          },
          "execution_count": 2,
          "metadata": {},
          "output_type": "execute_result"
        }
      ],
      "source": [
        "import pandas as pd\n",
        "df_lenta = pd.read_csv('lenta-ru-news.csv', usecols=['text', 'topic'])\n",
        "print('Записей в таблице:', df_lenta.shape[0])\n",
        "df_lenta.head()"
      ]
    },
    {
      "cell_type": "markdown",
      "source": [
        "Выведем статистику по топикам"
      ],
      "metadata": {
        "id": "H2RLHYz970QW"
      },
      "id": "H2RLHYz970QW"
    },
    {
      "cell_type": "code",
      "execution_count": null,
      "id": "ebfc85f0-5d14-4390-8fd1-03bc9ca04133",
      "metadata": {
        "id": "ebfc85f0-5d14-4390-8fd1-03bc9ca04133",
        "outputId": "c84dec30-c146-4f54-ab84-eabaa650b6d5"
      },
      "outputs": [
        {
          "data": {
            "text/html": [
              "<div>\n",
              "<style scoped>\n",
              "    .dataframe tbody tr th:only-of-type {\n",
              "        vertical-align: middle;\n",
              "    }\n",
              "\n",
              "    .dataframe tbody tr th {\n",
              "        vertical-align: top;\n",
              "    }\n",
              "\n",
              "    .dataframe thead th {\n",
              "        text-align: right;\n",
              "    }\n",
              "</style>\n",
              "<table border=\"1\" class=\"dataframe\">\n",
              "  <thead>\n",
              "    <tr style=\"text-align: right;\">\n",
              "      <th></th>\n",
              "      <th>count</th>\n",
              "    </tr>\n",
              "    <tr>\n",
              "      <th>topic</th>\n",
              "      <th></th>\n",
              "    </tr>\n",
              "  </thead>\n",
              "  <tbody>\n",
              "    <tr>\n",
              "      <th>Россия</th>\n",
              "      <td>160445</td>\n",
              "    </tr>\n",
              "    <tr>\n",
              "      <th>Мир</th>\n",
              "      <td>136621</td>\n",
              "    </tr>\n",
              "    <tr>\n",
              "      <th>Экономика</th>\n",
              "      <td>79528</td>\n",
              "    </tr>\n",
              "    <tr>\n",
              "      <th>Спорт</th>\n",
              "      <td>64413</td>\n",
              "    </tr>\n",
              "    <tr>\n",
              "      <th>Культура</th>\n",
              "      <td>53797</td>\n",
              "    </tr>\n",
              "    <tr>\n",
              "      <th>Бывший СССР</th>\n",
              "      <td>53402</td>\n",
              "    </tr>\n",
              "    <tr>\n",
              "      <th>Наука и техника</th>\n",
              "      <td>53136</td>\n",
              "    </tr>\n",
              "    <tr>\n",
              "      <th>Интернет и СМИ</th>\n",
              "      <td>44663</td>\n",
              "    </tr>\n",
              "    <tr>\n",
              "      <th>Из жизни</th>\n",
              "      <td>27605</td>\n",
              "    </tr>\n",
              "    <tr>\n",
              "      <th>Дом</th>\n",
              "      <td>21734</td>\n",
              "    </tr>\n",
              "    <tr>\n",
              "      <th>Силовые структуры</th>\n",
              "      <td>19596</td>\n",
              "    </tr>\n",
              "    <tr>\n",
              "      <th>Ценности</th>\n",
              "      <td>7766</td>\n",
              "    </tr>\n",
              "    <tr>\n",
              "      <th>Бизнес</th>\n",
              "      <td>7399</td>\n",
              "    </tr>\n",
              "    <tr>\n",
              "      <th>Путешествия</th>\n",
              "      <td>6408</td>\n",
              "    </tr>\n",
              "    <tr>\n",
              "      <th>69-я параллель</th>\n",
              "      <td>1268</td>\n",
              "    </tr>\n",
              "    <tr>\n",
              "      <th>Крым</th>\n",
              "      <td>666</td>\n",
              "    </tr>\n",
              "    <tr>\n",
              "      <th>Культпросвет</th>\n",
              "      <td>340</td>\n",
              "    </tr>\n",
              "    <tr>\n",
              "      <th>Легпром</th>\n",
              "      <td>114</td>\n",
              "    </tr>\n",
              "    <tr>\n",
              "      <th>Библиотека</th>\n",
              "      <td>65</td>\n",
              "    </tr>\n",
              "    <tr>\n",
              "      <th>Оружие</th>\n",
              "      <td>3</td>\n",
              "    </tr>\n",
              "    <tr>\n",
              "      <th>ЧМ-2014</th>\n",
              "      <td>2</td>\n",
              "    </tr>\n",
              "    <tr>\n",
              "      <th>МедНовости</th>\n",
              "      <td>1</td>\n",
              "    </tr>\n",
              "    <tr>\n",
              "      <th>Сочи</th>\n",
              "      <td>1</td>\n",
              "    </tr>\n",
              "  </tbody>\n",
              "</table>\n",
              "</div>"
            ],
            "text/plain": [
              "                    count\n",
              "topic                    \n",
              "Россия             160445\n",
              "Мир                136621\n",
              "Экономика           79528\n",
              "Спорт               64413\n",
              "Культура            53797\n",
              "Бывший СССР         53402\n",
              "Наука и техника     53136\n",
              "Интернет и СМИ      44663\n",
              "Из жизни            27605\n",
              "Дом                 21734\n",
              "Силовые структуры   19596\n",
              "Ценности             7766\n",
              "Бизнес               7399\n",
              "Путешествия          6408\n",
              "69-я параллель       1268\n",
              "Крым                  666\n",
              "Культпросвет          340\n",
              "Легпром               114\n",
              "Библиотека             65\n",
              "Оружие                  3\n",
              "ЧМ-2014                 2\n",
              "МедНовости              1\n",
              "Сочи                    1"
            ]
          },
          "execution_count": 3,
          "metadata": {},
          "output_type": "execute_result"
        }
      ],
      "source": [
        "stats=pd.DataFrame(df_lenta['topic'].value_counts())\n",
        "stats"
      ]
    },
    {
      "cell_type": "code",
      "execution_count": null,
      "id": "0b360c29-fac7-4b2b-96f7-4a085cb6dfc5",
      "metadata": {
        "id": "0b360c29-fac7-4b2b-96f7-4a085cb6dfc5",
        "outputId": "f1e2f7ad-b201-480a-aa7e-8841a3ab1909"
      },
      "outputs": [
        {
          "name": "stdout",
          "output_type": "stream",
          "text": [
            "Requirement already satisfied: seaborn in ./jupiter_env/lib/python3.8/site-packages (0.13.2)\n",
            "Requirement already satisfied: numpy!=1.24.0,>=1.20 in ./jupiter_env/lib/python3.8/site-packages (from seaborn) (1.24.4)\n",
            "Requirement already satisfied: pandas>=1.2 in ./jupiter_env/lib/python3.8/site-packages (from seaborn) (2.0.3)\n",
            "Requirement already satisfied: matplotlib!=3.6.1,>=3.4 in ./jupiter_env/lib/python3.8/site-packages (from seaborn) (3.7.5)\n",
            "Requirement already satisfied: contourpy>=1.0.1 in ./jupiter_env/lib/python3.8/site-packages (from matplotlib!=3.6.1,>=3.4->seaborn) (1.1.1)\n",
            "Requirement already satisfied: cycler>=0.10 in ./jupiter_env/lib/python3.8/site-packages (from matplotlib!=3.6.1,>=3.4->seaborn) (0.12.1)\n",
            "Requirement already satisfied: fonttools>=4.22.0 in ./jupiter_env/lib/python3.8/site-packages (from matplotlib!=3.6.1,>=3.4->seaborn) (4.53.0)\n",
            "Requirement already satisfied: kiwisolver>=1.0.1 in ./jupiter_env/lib/python3.8/site-packages (from matplotlib!=3.6.1,>=3.4->seaborn) (1.4.5)\n",
            "Requirement already satisfied: packaging>=20.0 in ./jupiter_env/lib/python3.8/site-packages (from matplotlib!=3.6.1,>=3.4->seaborn) (24.0)\n",
            "Requirement already satisfied: pillow>=6.2.0 in ./jupiter_env/lib/python3.8/site-packages (from matplotlib!=3.6.1,>=3.4->seaborn) (10.3.0)\n",
            "Requirement already satisfied: pyparsing>=2.3.1 in ./jupiter_env/lib/python3.8/site-packages (from matplotlib!=3.6.1,>=3.4->seaborn) (3.1.2)\n",
            "Requirement already satisfied: python-dateutil>=2.7 in ./jupiter_env/lib/python3.8/site-packages (from matplotlib!=3.6.1,>=3.4->seaborn) (2.9.0.post0)\n",
            "Requirement already satisfied: importlib-resources>=3.2.0 in ./jupiter_env/lib/python3.8/site-packages (from matplotlib!=3.6.1,>=3.4->seaborn) (6.4.0)\n",
            "Requirement already satisfied: pytz>=2020.1 in ./jupiter_env/lib/python3.8/site-packages (from pandas>=1.2->seaborn) (2024.1)\n",
            "Requirement already satisfied: tzdata>=2022.1 in ./jupiter_env/lib/python3.8/site-packages (from pandas>=1.2->seaborn) (2024.1)\n",
            "Requirement already satisfied: zipp>=3.1.0 in ./jupiter_env/lib/python3.8/site-packages (from importlib-resources>=3.2.0->matplotlib!=3.6.1,>=3.4->seaborn) (3.19.2)\n",
            "Requirement already satisfied: six>=1.5 in ./jupiter_env/lib/python3.8/site-packages (from python-dateutil>=2.7->matplotlib!=3.6.1,>=3.4->seaborn) (1.16.0)\n"
          ]
        }
      ],
      "source": [
        "!pip3 install seaborn"
      ]
    },
    {
      "cell_type": "code",
      "execution_count": null,
      "id": "2fb427aa-5d1c-43a5-a195-0c27125fd3ad",
      "metadata": {
        "id": "2fb427aa-5d1c-43a5-a195-0c27125fd3ad",
        "outputId": "66620c43-e756-44b3-883d-3d77bc9ac876"
      },
      "outputs": [
        {
          "data": {
            "image/png": "[encoded data removed]",
            "text/plain": [
              "<Figure size 640x480 with 1 Axes>"
            ]
          },
          "metadata": {},
          "output_type": "display_data"
        }
      ],
      "source": [
        "import matplotlib.pyplot as plt\n",
        "import seaborn as sns\n",
        "sns.set_style('darkgrid')\n",
        "sns.barplot(x='count', y='topic', hue='topic', data=stats)\n",
        "plt.title('Topics stats')\n",
        "plt.show()"
      ]
    },
    {
      "cell_type": "markdown",
      "source": [
        "Проблема заключается в том, что некоторые топики представлены малым количеством примеров. Для сбалансированной работы с датасетом выберем только 8 самых больших топиков и выровним количество примеров по каждому топику относительно меньшего"
      ],
      "metadata": {
        "id": "wKAzftv-8dyB"
      },
      "id": "wKAzftv-8dyB"
    },
    {
      "cell_type": "code",
      "execution_count": null,
      "id": "c4573e5f-2500-454c-8f7d-72b95a35ea93",
      "metadata": {
        "id": "c4573e5f-2500-454c-8f7d-72b95a35ea93",
        "outputId": "d2d4aca2-1d3f-4de1-de79-8cd97363c188"
      },
      "outputs": [
        {
          "data": {
            "text/html": [
              "<div>\n",
              "<style scoped>\n",
              "    .dataframe tbody tr th:only-of-type {\n",
              "        vertical-align: middle;\n",
              "    }\n",
              "\n",
              "    .dataframe tbody tr th {\n",
              "        vertical-align: top;\n",
              "    }\n",
              "\n",
              "    .dataframe thead th {\n",
              "        text-align: right;\n",
              "    }\n",
              "</style>\n",
              "<table border=\"1\" class=\"dataframe\">\n",
              "  <thead>\n",
              "    <tr style=\"text-align: right;\">\n",
              "      <th></th>\n",
              "      <th>count</th>\n",
              "    </tr>\n",
              "    <tr>\n",
              "      <th>topic</th>\n",
              "      <th></th>\n",
              "    </tr>\n",
              "  </thead>\n",
              "  <tbody>\n",
              "    <tr>\n",
              "      <th>Бывший СССР</th>\n",
              "      <td>44663</td>\n",
              "    </tr>\n",
              "    <tr>\n",
              "      <th>Интернет и СМИ</th>\n",
              "      <td>44663</td>\n",
              "    </tr>\n",
              "    <tr>\n",
              "      <th>Культура</th>\n",
              "      <td>44663</td>\n",
              "    </tr>\n",
              "    <tr>\n",
              "      <th>Мир</th>\n",
              "      <td>44663</td>\n",
              "    </tr>\n",
              "    <tr>\n",
              "      <th>Наука и техника</th>\n",
              "      <td>44663</td>\n",
              "    </tr>\n",
              "    <tr>\n",
              "      <th>Россия</th>\n",
              "      <td>44663</td>\n",
              "    </tr>\n",
              "    <tr>\n",
              "      <th>Спорт</th>\n",
              "      <td>44663</td>\n",
              "    </tr>\n",
              "    <tr>\n",
              "      <th>Экономика</th>\n",
              "      <td>44663</td>\n",
              "    </tr>\n",
              "  </tbody>\n",
              "</table>\n",
              "</div>"
            ],
            "text/plain": [
              "                 count\n",
              "topic                 \n",
              "Бывший СССР      44663\n",
              "Интернет и СМИ   44663\n",
              "Культура         44663\n",
              "Мир              44663\n",
              "Наука и техника  44663\n",
              "Россия           44663\n",
              "Спорт            44663\n",
              "Экономика        44663"
            ]
          },
          "execution_count": 19,
          "metadata": {},
          "output_type": "execute_result"
        }
      ],
      "source": [
        "df_lenta_clean = df_lenta.loc[df_lenta['topic'].isin(['Россия', 'Мир', 'Экономика', 'Спорт', 'Культура','Бывший СССР','Наука и техника', 'Интернет и СМИ'])]\n",
        "\n",
        "resampling = df_lenta_clean.groupby('topic')\n",
        "#class_size = 10000\n",
        "class_size = resampling.size().min()\n",
        "df_lenta_clean = pd.DataFrame(resampling.apply(lambda x: x.sample(class_size).reset_index(drop=True)))\n",
        "#del df_lenta\n",
        "stats=pd.DataFrame(df_lenta_clean['topic'].value_counts())\n",
        "stats"
      ]
    },
    {
      "cell_type": "code",
      "execution_count": null,
      "id": "82cafdff-6938-4f2c-bc39-6e431ac4f4f7",
      "metadata": {
        "id": "82cafdff-6938-4f2c-bc39-6e431ac4f4f7",
        "outputId": "7dfcc480-07ae-47f9-f8a0-2ddfb7ff8657"
      },
      "outputs": [
        {
          "name": "stdout",
          "output_type": "stream",
          "text": [
            "Found existing installation: transformers 4.41.2\n",
            "Uninstalling transformers-4.41.2:\n",
            "  Successfully uninstalled transformers-4.41.2\n",
            "Found existing installation: accelerate 0.30.1\n",
            "Uninstalling accelerate-0.30.1:\n",
            "  Successfully uninstalled accelerate-0.30.1\n",
            "Collecting transformers\n",
            "  Using cached transformers-4.41.2-py3-none-any.whl.metadata (43 kB)\n",
            "Collecting accelerate\n",
            "  Using cached accelerate-0.30.1-py3-none-any.whl.metadata (18 kB)\n",
            "Requirement already satisfied: filelock in ./jupiter_env/lib/python3.8/site-packages (from transformers) (3.14.0)\n",
            "Requirement already satisfied: huggingface-hub<1.0,>=0.23.0 in ./jupiter_env/lib/python3.8/site-packages (from transformers) (0.23.3)\n",
            "Requirement already satisfied: numpy>=1.17 in ./jupiter_env/lib/python3.8/site-packages (from transformers) (1.24.4)\n",
            "Requirement already satisfied: packaging>=20.0 in ./jupiter_env/lib/python3.8/site-packages (from transformers) (24.0)\n",
            "Requirement already satisfied: pyyaml>=5.1 in ./jupiter_env/lib/python3.8/site-packages (from transformers) (6.0.1)\n",
            "Requirement already satisfied: regex!=2019.12.17 in ./jupiter_env/lib/python3.8/site-packages (from transformers) (2024.5.15)\n",
            "Requirement already satisfied: requests in ./jupiter_env/lib/python3.8/site-packages (from transformers) (2.32.3)\n",
            "Requirement already satisfied: tokenizers<0.20,>=0.19 in ./jupiter_env/lib/python3.8/site-packages (from transformers) (0.19.1)\n",
            "Requirement already satisfied: safetensors>=0.4.1 in ./jupiter_env/lib/python3.8/site-packages (from transformers) (0.4.3)\n",
            "Requirement already satisfied: tqdm>=4.27 in ./jupiter_env/lib/python3.8/site-packages (from transformers) (4.66.4)\n",
            "Requirement already satisfied: psutil in ./jupiter_env/lib/python3.8/site-packages (from accelerate) (5.9.8)\n",
            "Requirement already satisfied: torch>=1.10.0 in ./jupiter_env/lib/python3.8/site-packages (from accelerate) (2.3.1)\n",
            "Requirement already satisfied: fsspec>=2023.5.0 in ./jupiter_env/lib/python3.8/site-packages (from huggingface-hub<1.0,>=0.23.0->transformers) (2024.3.1)\n",
            "Requirement already satisfied: typing-extensions>=3.7.4.3 in ./jupiter_env/lib/python3.8/site-packages (from huggingface-hub<1.0,>=0.23.0->transformers) (4.12.1)\n",
            "Requirement already satisfied: sympy in ./jupiter_env/lib/python3.8/site-packages (from torch>=1.10.0->accelerate) (1.12.1)\n",
            "Requirement already satisfied: networkx in ./jupiter_env/lib/python3.8/site-packages (from torch>=1.10.0->accelerate) (3.1)\n",
            "Requirement already satisfied: jinja2 in ./jupiter_env/lib/python3.8/site-packages (from torch>=1.10.0->accelerate) (3.1.4)\n",
            "Requirement already satisfied: nvidia-cuda-nvrtc-cu12==12.1.105 in ./jupiter_env/lib/python3.8/site-packages (from torch>=1.10.0->accelerate) (12.1.105)\n",
            "Requirement already satisfied: nvidia-cuda-runtime-cu12==12.1.105 in ./jupiter_env/lib/python3.8/site-packages (from torch>=1.10.0->accelerate) (12.1.105)\n",
            "Requirement already satisfied: nvidia-cuda-cupti-cu12==12.1.105 in ./jupiter_env/lib/python3.8/site-packages (from torch>=1.10.0->accelerate) (12.1.105)\n",
            "Requirement already satisfied: nvidia-cudnn-cu12==8.9.2.26 in ./jupiter_env/lib/python3.8/site-packages (from torch>=1.10.0->accelerate) (8.9.2.26)\n",
            "Requirement already satisfied: nvidia-cublas-cu12==12.1.3.1 in ./jupiter_env/lib/python3.8/site-packages (from torch>=1.10.0->accelerate) (12.1.3.1)\n",
            "Requirement already satisfied: nvidia-cufft-cu12==11.0.2.54 in ./jupiter_env/lib/python3.8/site-packages (from torch>=1.10.0->accelerate) (11.0.2.54)\n",
            "Requirement already satisfied: nvidia-curand-cu12==10.3.2.106 in ./jupiter_env/lib/python3.8/site-packages (from torch>=1.10.0->accelerate) (10.3.2.106)\n",
            "Requirement already satisfied: nvidia-cusolver-cu12==11.4.5.107 in ./jupiter_env/lib/python3.8/site-packages (from torch>=1.10.0->accelerate) (11.4.5.107)\n",
            "Requirement already satisfied: nvidia-cusparse-cu12==12.1.0.106 in ./jupiter_env/lib/python3.8/site-packages (from torch>=1.10.0->accelerate) (12.1.0.106)\n",
            "Requirement already satisfied: nvidia-nccl-cu12==2.20.5 in ./jupiter_env/lib/python3.8/site-packages (from torch>=1.10.0->accelerate) (2.20.5)\n",
            "Requirement already satisfied: nvidia-nvtx-cu12==12.1.105 in ./jupiter_env/lib/python3.8/site-packages (from torch>=1.10.0->accelerate) (12.1.105)\n",
            "Requirement already satisfied: triton==2.3.1 in ./jupiter_env/lib/python3.8/site-packages (from torch>=1.10.0->accelerate) (2.3.1)\n",
            "Requirement already satisfied: nvidia-nvjitlink-cu12 in ./jupiter_env/lib/python3.8/site-packages (from nvidia-cusolver-cu12==11.4.5.107->torch>=1.10.0->accelerate) (12.5.40)\n",
            "Requirement already satisfied: charset-normalizer<4,>=2 in ./jupiter_env/lib/python3.8/site-packages (from requests->transformers) (3.3.2)\n",
            "Requirement already satisfied: idna<4,>=2.5 in ./jupiter_env/lib/python3.8/site-packages (from requests->transformers) (3.7)\n",
            "Requirement already satisfied: urllib3<3,>=1.21.1 in ./jupiter_env/lib/python3.8/site-packages (from requests->transformers) (2.2.1)\n",
            "Requirement already satisfied: certifi>=2017.4.17 in ./jupiter_env/lib/python3.8/site-packages (from requests->transformers) (2024.6.2)\n",
            "Requirement already satisfied: MarkupSafe>=2.0 in ./jupiter_env/lib/python3.8/site-packages (from jinja2->torch>=1.10.0->accelerate) (2.1.5)\n",
            "Requirement already satisfied: mpmath<1.4.0,>=1.1.0 in ./jupiter_env/lib/python3.8/site-packages (from sympy->torch>=1.10.0->accelerate) (1.3.0)\n",
            "Using cached transformers-4.41.2-py3-none-any.whl (9.1 MB)\n",
            "Using cached accelerate-0.30.1-py3-none-any.whl (302 kB)\n",
            "Installing collected packages: transformers, accelerate\n",
            "Successfully installed accelerate-0.30.1 transformers-4.41.2\n"
          ]
        }
      ],
      "source": [
        "!pip3 install datasets evaluate sentence_transformers > None\n",
        "!pip3 uninstall -y transformers accelerate\n",
        "!pip3 install transformers accelerate"
      ]
    },
    {
      "cell_type": "markdown",
      "source": [
        "Для обработки данных используем токенизатор нейронной сети rubert-tiny2"
      ],
      "metadata": {
        "id": "mBk0ukY8aPMk"
      },
      "id": "mBk0ukY8aPMk"
    },
    {
      "cell_type": "code",
      "execution_count": null,
      "id": "675f667b-6170-4f87-91d9-e5ed2867d57e",
      "metadata": {
        "id": "675f667b-6170-4f87-91d9-e5ed2867d57e"
      },
      "outputs": [],
      "source": [
        "import torch\n",
        "from transformers import AutoTokenizer\n",
        "from datasets import Dataset\n",
        "\n",
        "tokenizer_config = {'pretrained_model_name_or_path':\"cointegrated/rubert-tiny2\",'max_len':2048}\n",
        "tokenizer = AutoTokenizer.from_pretrained(**tokenizer_config)\n",
        "\n",
        "def tokenize_function(examples):\n",
        "    return tokenizer(examples[\"text\"], padding=\"max_length\", truncation=True, max_length=tokenizer.model_max_length)\n"
      ]
    },
    {
      "cell_type": "markdown",
      "source": [
        "Переименуем столбец topic в label и удалим пустые строки. Конвертируем данные из формата pandas в формат dataset. Разбиваем данные на train и test и кодируем столбец label."
      ],
      "metadata": {
        "id": "Iwlj106MewYU"
      },
      "id": "Iwlj106MewYU"
    },
    {
      "cell_type": "code",
      "execution_count": null,
      "id": "adf702bc-bfb2-4ff7-9a90-5133834d2ab9",
      "metadata": {
        "colab": {
          "referenced_widgets": [
            "9e9107f94af445a2a5e6c659cf1ba6d3",
            "0ccb3ca7d7a94a3e8e4b6a3f9f4ddce9",
            "529dde48b6234022973f3c442230b119",
            "9b0af7269f4546d1923d7c5ba9ceff4b"
          ]
        },
        "id": "adf702bc-bfb2-4ff7-9a90-5133834d2ab9",
        "outputId": "70cf3ad9-332b-45d8-9918-619e24aed02e"
      },
      "outputs": [
        {
          "data": {
            "application/vnd.jupyter.widget-view+json": {
              "model_id": "9e9107f94af445a2a5e6c659cf1ba6d3",
              "version_major": 2,
              "version_minor": 0
            },
            "text/plain": [
              "Flattening the indices:   0%|          | 0/285840 [00:00<?, ? examples/s]"
            ]
          },
          "metadata": {},
          "output_type": "display_data"
        },
        {
          "data": {
            "application/vnd.jupyter.widget-view+json": {
              "model_id": "0ccb3ca7d7a94a3e8e4b6a3f9f4ddce9",
              "version_major": 2,
              "version_minor": 0
            },
            "text/plain": [
              "Casting to class labels:   0%|          | 0/285840 [00:00<?, ? examples/s]"
            ]
          },
          "metadata": {},
          "output_type": "display_data"
        },
        {
          "data": {
            "application/vnd.jupyter.widget-view+json": {
              "model_id": "529dde48b6234022973f3c442230b119",
              "version_major": 2,
              "version_minor": 0
            },
            "text/plain": [
              "Flattening the indices:   0%|          | 0/71461 [00:00<?, ? examples/s]"
            ]
          },
          "metadata": {},
          "output_type": "display_data"
        },
        {
          "data": {
            "application/vnd.jupyter.widget-view+json": {
              "model_id": "9b0af7269f4546d1923d7c5ba9ceff4b",
              "version_major": 2,
              "version_minor": 0
            },
            "text/plain": [
              "Casting to class labels:   0%|          | 0/71461 [00:00<?, ? examples/s]"
            ]
          },
          "metadata": {},
          "output_type": "display_data"
        }
      ],
      "source": [
        "from datasets import Dataset\n",
        "df_lenta_clean_l=df_lenta_clean.rename(columns={\"topic\": \"label\"})\n",
        "df_lenta_clean_l = df_lenta_clean_l.dropna()\n",
        "ds = Dataset.from_pandas(df_lenta_clean_l)\n",
        "ds = ds.train_test_split(test_size=0.2)\n",
        "ds = ds.class_encode_column(\"label\")"
      ]
    },
    {
      "cell_type": "code",
      "execution_count": null,
      "id": "1eb46b08-7e26-4158-bd5c-e34c8715e27b",
      "metadata": {
        "scrolled": true,
        "colab": {
          "referenced_widgets": [
            "8215cd7caef44806bf56083542d4eefd",
            "a189d2906a25449db93d39a238766a37"
          ]
        },
        "id": "1eb46b08-7e26-4158-bd5c-e34c8715e27b",
        "outputId": "650c2f72-b846-4ba0-a290-a931f6fc71ec"
      },
      "outputs": [
        {
          "data": {
            "application/vnd.jupyter.widget-view+json": {
              "model_id": "8215cd7caef44806bf56083542d4eefd",
              "version_major": 2,
              "version_minor": 0
            },
            "text/plain": [
              "Map:   0%|          | 0/285840 [00:00<?, ? examples/s]"
            ]
          },
          "metadata": {},
          "output_type": "display_data"
        },
        {
          "data": {
            "application/vnd.jupyter.widget-view+json": {
              "model_id": "a189d2906a25449db93d39a238766a37",
              "version_major": 2,
              "version_minor": 0
            },
            "text/plain": [
              "Map:   0%|          | 0/71461 [00:00<?, ? examples/s]"
            ]
          },
          "metadata": {},
          "output_type": "display_data"
        }
      ],
      "source": [
        "tokenized_datasets = ds.map(tokenize_function, batched=True)"
      ]
    },
    {
      "cell_type": "markdown",
      "source": [
        "Загружаем модель нейронной сети rubert-tiny2 для обучения"
      ],
      "metadata": {
        "id": "PqbXsOXBiq7F"
      },
      "id": "PqbXsOXBiq7F"
    },
    {
      "cell_type": "code",
      "execution_count": null,
      "id": "46b02687-c4b6-441a-9b19-de116291a869",
      "metadata": {
        "id": "46b02687-c4b6-441a-9b19-de116291a869",
        "outputId": "879a1e8a-6a6d-49f0-fdce-5ca07fc1602d"
      },
      "outputs": [
        {
          "name": "stderr",
          "output_type": "stream",
          "text": [
            "Some weights of BertForSequenceClassification were not initialized from the model checkpoint at cointegrated/rubert-tiny2 and are newly initialized: ['classifier.bias', 'classifier.weight']\n",
            "You should probably TRAIN this model on a down-stream task to be able to use it for predictions and inference.\n"
          ]
        }
      ],
      "source": [
        "from transformers import AutoModelForSequenceClassification\n",
        "model = AutoModelForSequenceClassification.from_pretrained(\"cointegrated/rubert-tiny2\", num_labels=8)"
      ]
    },
    {
      "cell_type": "markdown",
      "source": [
        "Настраиваем функцию расчета метрики f1"
      ],
      "metadata": {
        "id": "C8BKfSuOkazj"
      },
      "id": "C8BKfSuOkazj"
    },
    {
      "cell_type": "code",
      "execution_count": null,
      "id": "4fc7f0a0-47b4-4b52-a414-4611649e1a24",
      "metadata": {
        "id": "4fc7f0a0-47b4-4b52-a414-4611649e1a24"
      },
      "outputs": [],
      "source": [
        "import numpy as np\n",
        "import evaluate\n",
        "metric = evaluate.load(\"f1\")\n"
      ]
    },
    {
      "cell_type": "code",
      "execution_count": null,
      "id": "6ee5ea31-214b-44bb-8398-17c9295842bb",
      "metadata": {
        "id": "6ee5ea31-214b-44bb-8398-17c9295842bb"
      },
      "outputs": [],
      "source": [
        "def compute_metrics(eval_pred):\n",
        "    logits, labels = eval_pred\n",
        "    predictions = np.argmax(logits, axis=-1)\n",
        "    return metric.compute(predictions=predictions, references=labels,average=\"weighted\")\n"
      ]
    },
    {
      "cell_type": "code",
      "execution_count": null,
      "id": "b5de2b30-7b8a-47b8-9355-220055954ace",
      "metadata": {
        "id": "b5de2b30-7b8a-47b8-9355-220055954ace",
        "outputId": "d084bcea-d60d-4e3b-8d95-5f612a2e5dc0"
      },
      "outputs": [
        {
          "name": "stderr",
          "output_type": "stream",
          "text": [
            "huggingface/tokenizers: The current process just got forked, after parallelism has already been used. Disabling parallelism to avoid deadlocks...\n",
            "To disable this warning, you can either:\n",
            "\t- Avoid using `tokenizers` before the fork if possible\n",
            "\t- Explicitly set the environment variable TOKENIZERS_PARALLELISM=(true | false)\n"
          ]
        }
      ],
      "source": [
        "from transformers import TrainingArguments, Trainer\n",
        "\n",
        "training_args = TrainingArguments(output_dir=\"test_trainer\", eval_strategy=\"epoch\")"
      ]
    },
    {
      "cell_type": "markdown",
      "source": [
        "Создаем объект trainer с нашей моделью, аргументами обучения, наборами тренировочных и тестовых данных и функцией оценки. И запускаем обучение."
      ],
      "metadata": {
        "id": "GDPoankLmDyL"
      },
      "id": "GDPoankLmDyL"
    },
    {
      "cell_type": "code",
      "execution_count": null,
      "id": "aca7176d-c40e-4e6a-bf15-83896960f82d",
      "metadata": {
        "id": "aca7176d-c40e-4e6a-bf15-83896960f82d"
      },
      "outputs": [],
      "source": [
        "trainer = Trainer(\n",
        "    model=model,\n",
        "    args=training_args,\n",
        "    train_dataset=tokenized_datasets['train'],\n",
        "    eval_dataset=tokenized_datasets['test'],\n",
        "    compute_metrics=compute_metrics,\n",
        ")"
      ]
    },
    {
      "cell_type": "code",
      "execution_count": null,
      "id": "ed6d7577-c274-47e0-bd00-8fabdf21e5e9",
      "metadata": {
        "id": "ed6d7577-c274-47e0-bd00-8fabdf21e5e9",
        "outputId": "b39cbf5c-fec0-418d-d213-206554f0cecd"
      },
      "outputs": [
        {
          "data": {
            "text/html": [
              "\n",
              "    <div>\n",
              "      \n",
              "      <progress value='107190' max='107190' style='width:300px; height:20px; vertical-align: middle;'></progress>\n",
              "      [107190/107190 22:36:17, Epoch 3/3]\n",
              "    </div>\n",
              "    <table border=\"1\" class=\"dataframe\">\n",
              "  <thead>\n",
              " <tr style=\"text-align: left;\">\n",
              "      <th>Epoch</th>\n",
              "      <th>Training Loss</th>\n",
              "      <th>Validation Loss</th>\n",
              "      <th>F1</th>\n",
              "    </tr>\n",
              "  </thead>\n",
              "  <tbody>\n",
              "    <tr>\n",
              "      <td>1</td>\n",
              "      <td>0.340700</td>\n",
              "      <td>0.328472</td>\n",
              "      <td>0.903624</td>\n",
              "    </tr>\n",
              "    <tr>\n",
              "      <td>2</td>\n",
              "      <td>0.243800</td>\n",
              "      <td>0.347452</td>\n",
              "      <td>0.913305</td>\n",
              "    </tr>\n",
              "    <tr>\n",
              "      <td>3</td>\n",
              "      <td>0.165000</td>\n",
              "      <td>0.444251</td>\n",
              "      <td>0.912464</td>\n",
              "    </tr>\n",
              "  </tbody>\n",
              "</table><p>"
            ],
            "text/plain": [
              "<IPython.core.display.HTML object>"
            ]
          },
          "metadata": {},
          "output_type": "display_data"
        },
        {
          "data": {
            "text/plain": [
              "TrainOutput(global_step=107190, training_loss=0.2653275853607323, metrics={'train_runtime': 81378.2587, 'train_samples_per_second': 10.537, 'train_steps_per_second': 1.317, 'total_flos': 2.531390873665536e+16, 'train_loss': 0.2653275853607323, 'epoch': 3.0})"
            ]
          },
          "execution_count": 29,
          "metadata": {},
          "output_type": "execute_result"
        }
      ],
      "source": [
        "trainer.train()"
      ]
    },
    {
      "cell_type": "markdown",
      "source": [
        "Ниже показаны результаты обучения, когда для каждого класса было выбрано по 10000 примеров, и когда мы уровняли количество примеров по минимальному классу. А также показаны для сравнения результаты обучения Tfidf+LogisticRegression."
      ],
      "metadata": {
        "id": "hAINgsGynzg4"
      },
      "id": "hAINgsGynzg4"
    },
    {
      "cell_type": "code",
      "execution_count": null,
      "id": "e7009b8a-e142-4d22-be1e-b1500bcbc7ff",
      "metadata": {
        "id": "e7009b8a-e142-4d22-be1e-b1500bcbc7ff"
      },
      "outputs": [],
      "source": [
        "#Fine-tune\n",
        "# 10000 samples 8 classes\n",
        "#rubert-tiny2\n",
        "#Epoch \tTraining Loss \t Validation Loss \tF1\n",
        "#1 \t    0.373000 \t     0.385419 \t       0.888981\n",
        "#2 \t    0.285700 \t     0.427618 \t       0.894159\n",
        "#3 \t    0.183000 \t     0.492318 \t       0.895980\n",
        "\n",
        "#Fine-tune\n",
        "#44663\n",
        "#rubert-tiny2\n",
        "#Epoch \tTraining Loss \tValidation Loss \tF1\n",
        "#1 \t    0.340700 \t    0.328472 \t       0.903624\n",
        "#2 \t    0.243800 \t    0.347452 \t       0.913305\n",
        "#3 \t    0.165000 \t    0.444251 \t       0.912464\n",
        "\n",
        "#Tfidf+LogisticRegression\n",
        "# f1 0.88"
      ]
    },
    {
      "cell_type": "code",
      "execution_count": null,
      "id": "16ae7d77-c13d-4279-9a30-4432d4cab53b",
      "metadata": {
        "id": "16ae7d77-c13d-4279-9a30-4432d4cab53b"
      },
      "outputs": [],
      "source": []
    }
  ],
  "metadata": {
    "kernelspec": {
      "display_name": "Python 3 (ipykernel)",
      "language": "python",
      "name": "python3"
    },
    "language_info": {
      "codemirror_mode": {
        "name": "ipython",
        "version": 3
      },
      "file_extension": ".py",
      "mimetype": "text/x-python",
      "name": "python",
      "nbconvert_exporter": "python",
      "pygments_lexer": "ipython3",
      "version": "3.8.10"
    },
    "colab": {
      "provenance": []
    }
  },
  "nbformat": 4,
  "nbformat_minor": 5
}