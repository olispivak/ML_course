{
  "cells": [
    {
      "cell_type": "markdown",
      "metadata": {
        "id": "rDYrOcurqx0s"
      },
      "source": [
        "Скачиваем датасет с отзывами на фильмы"
      ]
    },
    {
      "cell_type": "code",
      "execution_count": null,
      "metadata": {
        "id": "uvKTDMTdqB0X",
        "colab": {
          "base_uri": "https://localhost:8080/"
        },
        "outputId": "43dc9063-9aef-493d-ffac-0463b8d167f5"
      },
      "outputs": [
        {
          "output_type": "stream",
          "name": "stdout",
          "text": [
            "--2024-02-22 13:45:12--  http://www.cs.cornell.edu/people/pabo/movie-review-data/review_polarity.tar.gz\n",
            "Resolving www.cs.cornell.edu (www.cs.cornell.edu)... 132.236.207.36\n",
            "Connecting to www.cs.cornell.edu (www.cs.cornell.edu)|132.236.207.36|:80... connected.\n",
            "HTTP request sent, awaiting response... 200 OK\n",
            "Length: 3127238 (3.0M) [application/x-gzip]\n",
            "Saving to: ‘review_polarity.tar.gz’\n",
            "\n",
            "review_polarity.tar 100%[===================>]   2.98M  11.1MB/s    in 0.3s    \n",
            "\n",
            "2024-02-22 13:45:13 (11.1 MB/s) - ‘review_polarity.tar.gz’ saved [3127238/3127238]\n",
            "\n"
          ]
        }
      ],
      "source": [
        "!wget http://www.cs.cornell.edu/people/pabo/movie-review-data/review_polarity.tar.gz"
      ]
    },
    {
      "cell_type": "markdown",
      "metadata": {
        "id": "uEnymsm2sCZF"
      },
      "source": [
        "Разархивируем датасет"
      ]
    },
    {
      "cell_type": "code",
      "execution_count": null,
      "metadata": {
        "id": "dzfHND_yrwkV"
      },
      "outputs": [],
      "source": [
        "!tar -xf review_polarity.tar.gz"
      ]
    },
    {
      "cell_type": "markdown",
      "metadata": {
        "id": "ahUhkrQ3sLv-"
      },
      "source": [
        "Подгружаем модуль для загрузки датасете и загружаем его"
      ]
    },
    {
      "cell_type": "code",
      "execution_count": null,
      "metadata": {
        "id": "mLGj4M6WmHFL"
      },
      "outputs": [],
      "source": [
        "import sklearn\n",
        "from sklearn.datasets import load_files"
      ]
    },
    {
      "cell_type": "code",
      "execution_count": null,
      "metadata": {
        "id": "8O9229xTmQiY"
      },
      "outputs": [],
      "source": [
        "datadir=\"txt_sentoken\"\n",
        "movie_review_data=load_files(datadir,shuffle=True)"
      ]
    },
    {
      "cell_type": "code",
      "execution_count": null,
      "metadata": {
        "colab": {
          "base_uri": "https://localhost:8080/"
        },
        "id": "6MRyQYpgqAMa",
        "outputId": "20f82b39-9868-45fb-b66f-6cf53711e899"
      },
      "outputs": [
        {
          "output_type": "execute_result",
          "data": {
            "text/plain": [
              "array([0, 1, 1, ..., 1, 0, 0])"
            ]
          },
          "metadata": {},
          "execution_count": 6
        }
      ],
      "source": [
        "movie_review_data.target"
      ]
    },
    {
      "cell_type": "code",
      "execution_count": null,
      "metadata": {
        "colab": {
          "base_uri": "https://localhost:8080/"
        },
        "id": "gLyuUSrWqK3y",
        "outputId": "2909ffba-223a-4b62-aa15-b2917483c0eb"
      },
      "outputs": [
        {
          "data": {
            "text/plain": [
              "['neg', 'pos']"
            ]
          },
          "execution_count": 7,
          "metadata": {},
          "output_type": "execute_result"
        }
      ],
      "source": [
        "movie_review_data.target_names"
      ]
    },
    {
      "cell_type": "markdown",
      "metadata": {
        "id": "pD7V4B7gpIJ8"
      },
      "source": [
        "Конвертируем загруженный датасет в формат датафрейма pandas"
      ]
    },
    {
      "cell_type": "code",
      "execution_count": null,
      "metadata": {
        "id": "u8PkPFUFn0x0"
      },
      "outputs": [],
      "source": [
        "import pandas as pd\n",
        "df = pd.DataFrame(data=movie_review_data.data)\n",
        "df[\"target\"] = movie_review_data.target"
      ]
    },
    {
      "cell_type": "code",
      "execution_count": null,
      "metadata": {
        "colab": {
          "base_uri": "https://localhost:8080/",
          "height": 206
        },
        "id": "2usZq6hJpZ8M",
        "outputId": "61a29ca7-aeda-40fb-9b67-b10d038324ec"
      },
      "outputs": [
        {
          "output_type": "execute_result",
          "data": {
            "text/plain": [
              "                                                   0  target\n",
              "0  b\"arnold schwarzenegger has been an icon for a...       0\n",
              "1  b\"good films are hard to find these days . \\ng...       1\n",
              "2  b\"quaid stars as a man who has taken up the pr...       1\n",
              "3  b'we could paraphrase michelle pfieffer\\'s cha...       0\n",
              "4  b\"kolya is one of the richest films i've seen ...       1"
            ],
            "text/html": [
              "\n",
              "  <div id=\"df-6f0bf9e2-9787-46ac-8fd8-c3038c1f1311\" class=\"colab-df-container\">\n",
              "    <div>\n",
              "<style scoped>\n",
              "    .dataframe tbody tr th:only-of-type {\n",
              "        vertical-align: middle;\n",
              "    }\n",
              "\n",
              "    .dataframe tbody tr th {\n",
              "        vertical-align: top;\n",
              "    }\n",
              "\n",
              "    .dataframe thead th {\n",
              "        text-align: right;\n",
              "    }\n",
              "</style>\n",
              "<table border=\"1\" class=\"dataframe\">\n",
              "  <thead>\n",
              "    <tr style=\"text-align: right;\">\n",
              "      <th></th>\n",
              "      <th>0</th>\n",
              "      <th>target</th>\n",
              "    </tr>\n",
              "  </thead>\n",
              "  <tbody>\n",
              "    <tr>\n",
              "      <th>0</th>\n",
              "      <td>b\"arnold schwarzenegger has been an icon for a...</td>\n",
              "      <td>0</td>\n",
              "    </tr>\n",
              "    <tr>\n",
              "      <th>1</th>\n",
              "      <td>b\"good films are hard to find these days . \\ng...</td>\n",
              "      <td>1</td>\n",
              "    </tr>\n",
              "    <tr>\n",
              "      <th>2</th>\n",
              "      <td>b\"quaid stars as a man who has taken up the pr...</td>\n",
              "      <td>1</td>\n",
              "    </tr>\n",
              "    <tr>\n",
              "      <th>3</th>\n",
              "      <td>b'we could paraphrase michelle pfieffer\\'s cha...</td>\n",
              "      <td>0</td>\n",
              "    </tr>\n",
              "    <tr>\n",
              "      <th>4</th>\n",
              "      <td>b\"kolya is one of the richest films i've seen ...</td>\n",
              "      <td>1</td>\n",
              "    </tr>\n",
              "  </tbody>\n",
              "</table>\n",
              "</div>\n",
              "    <div class=\"colab-df-buttons\">\n",
              "\n",
              "  <div class=\"colab-df-container\">\n",
              "    <button class=\"colab-df-convert\" onclick=\"convertToInteractive('df-6f0bf9e2-9787-46ac-8fd8-c3038c1f1311')\"\n",
              "            title=\"Convert this dataframe to an interactive table.\"\n",
              "            style=\"display:none;\">\n",
              "\n",
              "  <svg xmlns=\"http://www.w3.org/2000/svg\" height=\"24px\" viewBox=\"0 -960 960 960\">\n",
              "    <path d=\"M120-120v-720h720v720H120Zm60-500h600v-160H180v160Zm220 220h160v-160H400v160Zm0 220h160v-160H400v160ZM180-400h160v-160H180v160Zm440 0h160v-160H620v160ZM180-180h160v-160H180v160Zm440 0h160v-160H620v160Z\"/>\n",
              "  </svg>\n",
              "    </button>\n",
              "\n",
              "  <style>\n",
              "    .colab-df-container {\n",
              "      display:flex;\n",
              "      gap: 12px;\n",
              "    }\n",
              "\n",
              "    .colab-df-convert {\n",
              "      background-color: #E8F0FE;\n",
              "      border: none;\n",
              "      border-radius: 50%;\n",
              "      cursor: pointer;\n",
              "      display: none;\n",
              "      fill: #1967D2;\n",
              "      height: 32px;\n",
              "      padding: 0 0 0 0;\n",
              "      width: 32px;\n",
              "    }\n",
              "\n",
              "    .colab-df-convert:hover {\n",
              "      background-color: #E2EBFA;\n",
              "      box-shadow: 0px 1px 2px rgba(60, 64, 67, 0.3), 0px 1px 3px 1px rgba(60, 64, 67, 0.15);\n",
              "      fill: #174EA6;\n",
              "    }\n",
              "\n",
              "    .colab-df-buttons div {\n",
              "      margin-bottom: 4px;\n",
              "    }\n",
              "\n",
              "    [theme=dark] .colab-df-convert {\n",
              "      background-color: #3B4455;\n",
              "      fill: #D2E3FC;\n",
              "    }\n",
              "\n",
              "    [theme=dark] .colab-df-convert:hover {\n",
              "      background-color: #434B5C;\n",
              "      box-shadow: 0px 1px 3px 1px rgba(0, 0, 0, 0.15);\n",
              "      filter: drop-shadow(0px 1px 2px rgba(0, 0, 0, 0.3));\n",
              "      fill: #FFFFFF;\n",
              "    }\n",
              "  </style>\n",
              "\n",
              "    <script>\n",
              "      const buttonEl =\n",
              "        document.querySelector('#df-6f0bf9e2-9787-46ac-8fd8-c3038c1f1311 button.colab-df-convert');\n",
              "      buttonEl.style.display =\n",
              "        google.colab.kernel.accessAllowed ? 'block' : 'none';\n",
              "\n",
              "      async function convertToInteractive(key) {\n",
              "        const element = document.querySelector('#df-6f0bf9e2-9787-46ac-8fd8-c3038c1f1311');\n",
              "        const dataTable =\n",
              "          await google.colab.kernel.invokeFunction('convertToInteractive',\n",
              "                                                    [key], {});\n",
              "        if (!dataTable) return;\n",
              "\n",
              "        const docLinkHtml = 'Like what you see? Visit the ' +\n",
              "          '<a target=\"_blank\" href=https://colab.research.google.com/notebooks/data_table.ipynb>data table notebook</a>'\n",
              "          + ' to learn more about interactive tables.';\n",
              "        element.innerHTML = '';\n",
              "        dataTable['output_type'] = 'display_data';\n",
              "        await google.colab.output.renderOutput(dataTable, element);\n",
              "        const docLink = document.createElement('div');\n",
              "        docLink.innerHTML = docLinkHtml;\n",
              "        element.appendChild(docLink);\n",
              "      }\n",
              "    </script>\n",
              "  </div>\n",
              "\n",
              "\n",
              "<div id=\"df-e7650faf-b297-4fe2-a056-31e51f396f97\">\n",
              "  <button class=\"colab-df-quickchart\" onclick=\"quickchart('df-e7650faf-b297-4fe2-a056-31e51f396f97')\"\n",
              "            title=\"Suggest charts\"\n",
              "            style=\"display:none;\">\n",
              "\n",
              "<svg xmlns=\"http://www.w3.org/2000/svg\" height=\"24px\"viewBox=\"0 0 24 24\"\n",
              "     width=\"24px\">\n",
              "    <g>\n",
              "        <path d=\"M19 3H5c-1.1 0-2 .9-2 2v14c0 1.1.9 2 2 2h14c1.1 0 2-.9 2-2V5c0-1.1-.9-2-2-2zM9 17H7v-7h2v7zm4 0h-2V7h2v10zm4 0h-2v-4h2v4z\"/>\n",
              "    </g>\n",
              "</svg>\n",
              "  </button>\n",
              "\n",
              "<style>\n",
              "  .colab-df-quickchart {\n",
              "      --bg-color: #E8F0FE;\n",
              "      --fill-color: #1967D2;\n",
              "      --hover-bg-color: #E2EBFA;\n",
              "      --hover-fill-color: #174EA6;\n",
              "      --disabled-fill-color: #AAA;\n",
              "      --disabled-bg-color: #DDD;\n",
              "  }\n",
              "\n",
              "  [theme=dark] .colab-df-quickchart {\n",
              "      --bg-color: #3B4455;\n",
              "      --fill-color: #D2E3FC;\n",
              "      --hover-bg-color: #434B5C;\n",
              "      --hover-fill-color: #FFFFFF;\n",
              "      --disabled-bg-color: #3B4455;\n",
              "      --disabled-fill-color: #666;\n",
              "  }\n",
              "\n",
              "  .colab-df-quickchart {\n",
              "    background-color: var(--bg-color);\n",
              "    border: none;\n",
              "    border-radius: 50%;\n",
              "    cursor: pointer;\n",
              "    display: none;\n",
              "    fill: var(--fill-color);\n",
              "    height: 32px;\n",
              "    padding: 0;\n",
              "    width: 32px;\n",
              "  }\n",
              "\n",
              "  .colab-df-quickchart:hover {\n",
              "    background-color: var(--hover-bg-color);\n",
              "    box-shadow: 0 1px 2px rgba(60, 64, 67, 0.3), 0 1px 3px 1px rgba(60, 64, 67, 0.15);\n",
              "    fill: var(--button-hover-fill-color);\n",
              "  }\n",
              "\n",
              "  .colab-df-quickchart-complete:disabled,\n",
              "  .colab-df-quickchart-complete:disabled:hover {\n",
              "    background-color: var(--disabled-bg-color);\n",
              "    fill: var(--disabled-fill-color);\n",
              "    box-shadow: none;\n",
              "  }\n",
              "\n",
              "  .colab-df-spinner {\n",
              "    border: 2px solid var(--fill-color);\n",
              "    border-color: transparent;\n",
              "    border-bottom-color: var(--fill-color);\n",
              "    animation:\n",
              "      spin 1s steps(1) infinite;\n",
              "  }\n",
              "\n",
              "  @keyframes spin {\n",
              "    0% {\n",
              "      border-color: transparent;\n",
              "      border-bottom-color: var(--fill-color);\n",
              "      border-left-color: var(--fill-color);\n",
              "    }\n",
              "    20% {\n",
              "      border-color: transparent;\n",
              "      border-left-color: var(--fill-color);\n",
              "      border-top-color: var(--fill-color);\n",
              "    }\n",
              "    30% {\n",
              "      border-color: transparent;\n",
              "      border-left-color: var(--fill-color);\n",
              "      border-top-color: var(--fill-color);\n",
              "      border-right-color: var(--fill-color);\n",
              "    }\n",
              "    40% {\n",
              "      border-color: transparent;\n",
              "      border-right-color: var(--fill-color);\n",
              "      border-top-color: var(--fill-color);\n",
              "    }\n",
              "    60% {\n",
              "      border-color: transparent;\n",
              "      border-right-color: var(--fill-color);\n",
              "    }\n",
              "    80% {\n",
              "      border-color: transparent;\n",
              "      border-right-color: var(--fill-color);\n",
              "      border-bottom-color: var(--fill-color);\n",
              "    }\n",
              "    90% {\n",
              "      border-color: transparent;\n",
              "      border-bottom-color: var(--fill-color);\n",
              "    }\n",
              "  }\n",
              "</style>\n",
              "\n",
              "  <script>\n",
              "    async function quickchart(key) {\n",
              "      const quickchartButtonEl =\n",
              "        document.querySelector('#' + key + ' button');\n",
              "      quickchartButtonEl.disabled = true;  // To prevent multiple clicks.\n",
              "      quickchartButtonEl.classList.add('colab-df-spinner');\n",
              "      try {\n",
              "        const charts = await google.colab.kernel.invokeFunction(\n",
              "            'suggestCharts', [key], {});\n",
              "      } catch (error) {\n",
              "        console.error('Error during call to suggestCharts:', error);\n",
              "      }\n",
              "      quickchartButtonEl.classList.remove('colab-df-spinner');\n",
              "      quickchartButtonEl.classList.add('colab-df-quickchart-complete');\n",
              "    }\n",
              "    (() => {\n",
              "      let quickchartButtonEl =\n",
              "        document.querySelector('#df-e7650faf-b297-4fe2-a056-31e51f396f97 button');\n",
              "      quickchartButtonEl.style.display =\n",
              "        google.colab.kernel.accessAllowed ? 'block' : 'none';\n",
              "    })();\n",
              "  </script>\n",
              "</div>\n",
              "    </div>\n",
              "  </div>\n"
            ],
            "application/vnd.google.colaboratory.intrinsic+json": {
              "type": "dataframe",
              "variable_name": "df",
              "summary": "{\n  \"name\": \"df\",\n  \"rows\": 2000,\n  \"fields\": [\n    {\n      \"column\": 0,\n      \"properties\": {\n        \"dtype\": \"string\",\n        \"num_unique_values\": 2000,\n        \"samples\": [\n          \"b\\\"apollo 13 is simply one of the most dramatic film this summer ( apart from swashbuckling braveheart ) . \\\\ndirector ( and former actor ) ron howard ( splash , backdraft , far & away ) , most noted for his dramatic film making , displays again his brilliance in creating drama and suspense in apollo 13 . \\\\nbeing the second largest box office hit in the us this summer ( with more than us$150 million in the states alone ) , this film is his most successful effort yet . \\\\nperhaps one of the most appealing feature of this film is the pool of talented actors such as tom hanks ( gump himself ) , kevin bacon ( footloose , tremors , a few good men etc . ) , gary sinise ( forrest gump ) , bill paxton ( aliens , true lies , boxing helena ) and ed harris ( the abyss , just cause ) . . \\\\nall of whom gave good performances in their respective roles . \\\\napollo 13 was the second worst accident ever to occur in the history of us spaceflight ( the worst being the challenger accident ) . \\\\njim lovell ( hanks ) , the mission commander , together with his crew , fred haise ( paxton ) and last minute replacement tom swigert ( bacon ) are put to the ultimate test when part of their command module explodes on the third day of the mission , more than three quarters way to the moon . \\\\nsuspense and drama ensue as the three men are left in space with their spaceship out of control and the problem of surviving the journey home . . . \\\\nif they ever reach it . \\\\ned harris and gary sinise who play , respectively , the man in charge of the entire mission control and the astronaut who was supposed to fly but was diagnosed with measles , both delve into their roles superbly . \\\\naudiences are shown the chaotic and worrisome state of the entire ground control crew , as they frantically attempt to come up with ideas on how to save the astronauts from hurtling into space . \\\\nalso , there are quite a number of real news footages which were broadcast during the accident which took the entire us nation into 5 days of drama in 1970 . \\\\nthe special effects by digital domain are up to standard and the music suits the suspense and drama very well , thanks to film-music maestro james horner . \\\\nwatch out for the launching sequence , it is simply one of the most breathtaking scenes of the film . \\\\na bad point though : apollo 13 features much technical jargon and many physics concepts in its script . \\\\nthose who consider themselves `scientifically illiterate' might have a slight problem understanding what caused this and what caused that during the course of the show . \\\\nthis is however , just a minor point , just forget all those technical bullshit and immerse yourselves into the drama and suspense throughout the film . \\\\nyou should enjoy it . \\\\n\\\"\",\n          \"b'_dirty_work_ has a premise of deliciously mean-spirited potential . \\\\nmitch weaver ( norm macdonald ) and his lifelong best friend sam mckenna ( artie lange ) are losers in life : they were constantly picked on in school , and now they cannot hold regular jobs . \\\\nbut as the trailer goes , \\\" there is one thing mitch weaver is good at--revenge . \\\" \\\\nso he and sam parlay their unmatched skill in getting-even schemes into a marketable revenge-for-hire business called dirty work inc . \\\\nthis should be the groundwork for a wonderfully wicked black comedy , but for a film called _dirty_work_ , what ensues is rather clean of spirit . \\\\nin fact , what makes mitch and sam start up their business is not a giddy desire to give bullies a taste of their own medicine , but rather a more sappy reason : sam\\\\'s father ( jack warden ) needs a heart transplant , and in order for him to move at the top of the recipient list , his compulsively betting doctor ( chevy chase ) asks the guys for $50 , 000 to pay off his bookie . \\\\nso for all the scheming that goes on , beneath every underhanded plot is--gasp ! --a \\\\nheart , which undercuts the inherent nastiness of the premise . \\\\nnot that there isn\\\\'t a lot of nastiness on display--there is , but of a different sort . \\\\nthere are frequent sexual references , most prominently in the form of prostitutes and sam\\\\'s impotent father\\\\'s ongoing lust for them . \\\\nand for a film rated pg-13 , director bob saget ( yes , that bob saget , of _full_house_ and _america\\\\'s_funniest_home_videos_ fame ) and writers frank sebastiano , fred wolf , and macdonald himself , stretch the boundaries of good taste rather far--arguably a bit too much so ( was not one , but two separate instances of sodomy between animals really necessary ? ) . \\\\nbut the issue , of course , is not so much of taste as it is humor--as in , is it funny or not ? \\\\nthe answer is a resounding no . \\\\nit\\\\'s not that macdonald isn\\\\'t a funny guy . \\\\nhe was one of the more consistently funny performers on _saturday_night_live_ before his much-talked-about firing , and his dry brand of smartass wit translates well to the big screen ; it also doesn\\\\'t hurt that he\\\\'s a natural , likable screen presence . \\\\nhe is able to give some of his lines a nice acid touch , but , for the most part , the oneliners , as written , are flat , and the broad slapstick gags just don\\\\'t work ( one running gag has him being literally tossed out of buildings--a real riot ) . \\\\nstill , macdonald\\\\'s few shining moments are just about the only moments the film has . \\\\nthe late chris farley , as hysterical as he ever was , is amusing in a cameo role , but , as a whole , the supporting players are amateurish and seemingly free from any directorial guidance . \\\\nsaget tries to juice up the proceedings with kitschy cameos by gary coleman , adam sandler , and john goodman , but their minimal novelty value cannot prevent _dirty_work_ from sputtering to the end of its brief 81-minute running time . \\\\nthe film closes on a sad note of desperation , an indulgent reel of outtakes from which only those involved in the production would derive any amusement . \\\\ncome to think of it , i cannot imagine anyone but those involved in the production to find much amusement in the entirety of _dirty_work_ . \\\\n'\",\n          \"b'while it was part of former yugoslavia , my country , croatia , used to be almost completely ignored by western films in general . \\\\nwords \\\" croatia \\\" and \\\" croatians \\\" were unheard , even in movies whose plots actually took place on croatian locations . \\\\nthe rare exception was the dogs of war , 1980 adaptation of frederick forsyth\\\\'s bestselling novel , yet that rare occasion only added insult to the injury , by mentioning croatians in most unflattering context . \\\\nin a single line they are referred as a bunch of mean people , probably terrorists , who happen to remove parts of arm dealers\\\\' stomachs when they are unsatisfied with the quality of merchandise . \\\\nsame line also illustrates the milieu where the movie takes place - dark and violent world of shady international deals with the blurred boundaries between business , politics and crime . \\\\nthe movie protagonist , shannon ( christopher walken ) is a mercenary who spent the best years of his life fighting numerous little wars all over the globe . \\\\nhis latest job is a intelligence mission for powerful mining corporation that demands information about political climate in west african nation of zangaro . \\\\nshannon arrives in that country only to find oppressive regime of president kimba , bloodthirsty madman whose brutality crushed any opposition and scared almost any westerners away . \\\\nafter being arrested and tortured by kimba\\\\'s secret police , shannon leaves country with a help of british journalist north ( colin blakely ) . \\\\nupon return , he is approached by mining company again , but this time they want him to plan and execute the coup d\\\\'etat against kimba . \\\\nshannon reluctantly agrees and assembles small group of his surviving mercenary friends who begin meticulous preparation for another small war . \\\\nthing that separates the dogs of war from conventional action movies , especially those made in 1980s , is its authenticity , almost close to documentary . \\\\nit shouldn\\\\'t surprise anyone , because the author of the novel , frederick forsyth , made reputation by blending fiction with real life , thus creating interesting , exciting yet very believable plots for his books . \\\\nthose plots were also responsible for few very successful 1970s thrillers , and one of them , zinnemman\\\\'s the day of the jackal , is now considered a classic in that genre . \\\\nthis one deals with soldiers of fortune , ancient tradition that was resurrected in great turmoil of 1960s and 1970s and filled the void left by vanishing colonial empires . \\\\nunlike wild geese , that used it as a pretext for conventional action adventure , script by george malko and gary de vore ( author whose death last year became real life mystery ) is serious , and instead of action puts emphasis on characters and prosaic details of their work . \\\\nthe movie doesn\\\\'t try to romanticise the mercenary profession nor glorify mercenaries as some kind of superheroes ; they are simply shown as deadly yet expendable tool of powerful forces with questionable agenda . \\\\nchristopher walken played in many movies , yet very rarely we can see him in a leading role . \\\\nhis performance in this film perhaps isn\\\\'t breathtaking , yet adequate . \\\\nhis notoriously expressionless face is perfect illustration of the disillusioned , world- weary man whose alienation from the \\\" normal \\\" way of life becomes complete and only remaining ideal is loyalty to the shrinking circle of friends . \\\\nalthough the movie doesn\\\\'t lack capable actors , their roles are miniature compared with walken\\\\'s , and only colin blakely as cynical reporter has opportunity to portray his character . \\\\nhowever , those who look familiar faces would find them plenty in the dogs of war - tom berenger , paul freeman , jo beth williams , victoria tennant ( in brief cameo ) , and biggest surprise is ed o\\\\'neill ( of married with children fame ) as shannon\\\\'s reluctant colleague . \\\\nthis was the first major production for john irvin , and it shows why he earned the reputation of capable , yet second class director . \\\\nwith the good script he can make very good movie , with the bad script he can make real mess . \\\\nluckily , the dogs of war had a good script . \\\\nirvin\\\\'s direction was very ascetic and it gave the movie almost documentary feel . \\\\nthe only distraction is dramatic music of geoffrey burgon , used on the wrong places . \\\\nin the final battle scene , where we can see mercenaries at work , irvin shows us that modern warfare means superior firepower and tactics , unlike 1980s ramboesque fantasies that rely on macho superheroes . \\\\nunfortunately , by making battle realistic irvin made it somewhat less attractive and his sloppy editing also didn\\\\'t help . \\\\nbut , despite those shortcomings , this movie remains interesting and rare combination of action thriller and gritty , realistic political drama . \\\\n'\"\n        ],\n        \"semantic_type\": \"\",\n        \"description\": \"\"\n      }\n    },\n    {\n      \"column\": \"target\",\n      \"properties\": {\n        \"dtype\": \"number\",\n        \"std\": 0,\n        \"min\": 0,\n        \"max\": 1,\n        \"num_unique_values\": 2,\n        \"samples\": [\n          1,\n          0\n        ],\n        \"semantic_type\": \"\",\n        \"description\": \"\"\n      }\n    }\n  ]\n}"
            }
          },
          "metadata": {},
          "execution_count": 8
        }
      ],
      "source": [
        "df.head()"
      ]
    },
    {
      "cell_type": "code",
      "execution_count": null,
      "metadata": {
        "id": "axSgE2mc66s-"
      },
      "outputs": [],
      "source": [
        "df = df.rename(columns={0: 'Review'})"
      ]
    },
    {
      "cell_type": "code",
      "execution_count": null,
      "metadata": {
        "colab": {
          "base_uri": "https://localhost:8080/"
        },
        "id": "_C8JXMeEsxer",
        "outputId": "171ee50d-5f62-4df6-950a-8921d243e32d"
      },
      "outputs": [
        {
          "output_type": "execute_result",
          "data": {
            "text/plain": [
              "0    1000\n",
              "1    1000\n",
              "Name: target, dtype: int64"
            ]
          },
          "metadata": {},
          "execution_count": 10
        }
      ],
      "source": [
        "df[\"target\"].value_counts()"
      ]
    },
    {
      "cell_type": "code",
      "source": [
        "import re\n",
        "import nltk\n",
        "nltk.download('stopwords')\n",
        "from nltk.corpus import stopwords\n",
        "\n",
        "def clean(review):\n",
        "  review = review.decode().lower()\n",
        "  review = re.sub('[^a-z A-Z 0-9-]+', '', review)\n",
        "  review = \" \".join([word for word in review.split() if word not in stopwords.words('english')])\n",
        "  return review\n"
      ],
      "metadata": {
        "colab": {
          "base_uri": "https://localhost:8080/"
        },
        "id": "WGDILTMgf9Fr",
        "outputId": "76b19b7c-7f2d-41e6-f31f-fdbb22795b45"
      },
      "execution_count": null,
      "outputs": [
        {
          "output_type": "stream",
          "name": "stderr",
          "text": [
            "[nltk_data] Downloading package stopwords to /root/nltk_data...\n",
            "[nltk_data]   Unzipping corpora/stopwords.zip.\n"
          ]
        }
      ]
    },
    {
      "cell_type": "code",
      "source": [
        "df['Review_cleaned'] = df['Review'].apply(clean)"
      ],
      "metadata": {
        "id": "C893ojK4gEym"
      },
      "execution_count": null,
      "outputs": []
    },
    {
      "cell_type": "markdown",
      "source": [
        "Создаем пайплайн из двух элементов: создание векторов на основе tfidf и линейный SVM. Затем определяем гиперпараметры для поиска лучших. И запускаем gridsearch для перебора вариантов и нахождения оптимального."
      ],
      "metadata": {
        "id": "8BLMniw3Hc28"
      }
    },
    {
      "cell_type": "code",
      "execution_count": null,
      "metadata": {
        "id": "L9lGqv2LMrQ8",
        "colab": {
          "base_uri": "https://localhost:8080/"
        },
        "outputId": "b9596bd5-6f28-47ff-a758-c7a4ee42de82"
      },
      "outputs": [
        {
          "output_type": "stream",
          "name": "stdout",
          "text": [
            "Fitting 5 folds for each of 15 candidates, totalling 75 fits\n",
            "clf__C: 0.1\n",
            "clf__random_state: 2023\n",
            "tfidf_vect__ngram_range: (1, 2)\n",
            "              precision    recall  f1-score   support\n",
            "\n",
            "           0       0.87      0.83      0.85       215\n",
            "           1       0.81      0.85      0.83       185\n",
            "\n",
            "    accuracy                           0.84       400\n",
            "   macro avg       0.84      0.84      0.84       400\n",
            "weighted avg       0.84      0.84      0.84       400\n",
            "\n"
          ]
        }
      ],
      "source": [
        "from sklearn.model_selection import cross_val_score, GridSearchCV, KFold, train_test_split\n",
        "from sklearn.feature_extraction.text import TfidfVectorizer\n",
        "from sklearn.svm import LinearSVC\n",
        "from sklearn.metrics import accuracy_score, confusion_matrix, classification_report\n",
        "\n",
        "y = df['target']\n",
        "X = df['Review_cleaned'].values\n",
        "\n",
        "from sklearn.pipeline import Pipeline\n",
        "pipeline = Pipeline(\n",
        "    [\n",
        "        (\"tfidf_vect\", TfidfVectorizer(strip_accents=None, lowercase=False, preprocessor=None, use_idf=True, norm=None)),\n",
        "        (\"clf\", LinearSVC()),\n",
        "    ]\n",
        ")\n",
        "\n",
        "parameters = {\n",
        "    'tfidf_vect__ngram_range': [(1,1),(1,2),(2,2)],\n",
        "    'clf__C': [0.1, 1, 10, 100, 1000],\n",
        "    'clf__random_state': [2023],\n",
        "}\n",
        "\n",
        "X_train, X_test, y_train, y_test = train_test_split(X, y, random_state=2023, test_size=0.2)\n",
        "grid = GridSearchCV(estimator=pipeline, param_grid=parameters, verbose = 3, n_jobs=6)\n",
        "\n",
        "grid.fit(X_train, y_train)\n",
        "best_parameters = grid.best_estimator_.get_params()\n",
        "for param_name in sorted(parameters.keys()):\n",
        "    print(f\"{param_name}: {best_parameters[param_name]}\")\n",
        "\n",
        "y_pred_optimized = grid.best_estimator_.predict(X_test)\n",
        "print(classification_report(y_test, y_pred_optimized))\n"
      ]
    },
    {
      "cell_type": "markdown",
      "source": [
        "Подбор гиперпараметров определил значение регуляризации 0.1 и число слов для tfidf 1 и 2."
      ],
      "metadata": {
        "id": "Y5GTJ7D7MFV-"
      }
    },
    {
      "cell_type": "markdown",
      "source": [
        "Создаем пайплайн с оптимальными гиперпараметрами. Проводим кросс-валидацию для 5 fold."
      ],
      "metadata": {
        "id": "4ci_whAqI_5D"
      }
    },
    {
      "cell_type": "code",
      "execution_count": null,
      "metadata": {
        "colab": {
          "base_uri": "https://localhost:8080/"
        },
        "id": "SDHi5vfARkVA",
        "outputId": "4dd2ab3c-24bf-44d5-96f6-d90c017320ae"
      },
      "outputs": [
        {
          "output_type": "stream",
          "name": "stdout",
          "text": [
            "              precision    recall  f1-score   support\n",
            "\n",
            "           0       0.82      0.86      0.84       190\n",
            "           1       0.87      0.83      0.85       210\n",
            "\n",
            "    accuracy                           0.84       400\n",
            "   macro avg       0.84      0.85      0.84       400\n",
            "weighted avg       0.85      0.84      0.85       400\n",
            "\n",
            "              precision    recall  f1-score   support\n",
            "\n",
            "           0       0.86      0.87      0.86       205\n",
            "           1       0.86      0.85      0.85       195\n",
            "\n",
            "    accuracy                           0.86       400\n",
            "   macro avg       0.86      0.86      0.86       400\n",
            "weighted avg       0.86      0.86      0.86       400\n",
            "\n",
            "              precision    recall  f1-score   support\n",
            "\n",
            "           0       0.86      0.85      0.86       204\n",
            "           1       0.85      0.86      0.85       196\n",
            "\n",
            "    accuracy                           0.85       400\n",
            "   macro avg       0.85      0.86      0.85       400\n",
            "weighted avg       0.86      0.85      0.86       400\n",
            "\n",
            "              precision    recall  f1-score   support\n",
            "\n",
            "           0       0.86      0.83      0.85       207\n",
            "           1       0.83      0.86      0.84       193\n",
            "\n",
            "    accuracy                           0.84       400\n",
            "   macro avg       0.85      0.85      0.84       400\n",
            "weighted avg       0.85      0.84      0.85       400\n",
            "\n",
            "              precision    recall  f1-score   support\n",
            "\n",
            "           0       0.87      0.91      0.89       194\n",
            "           1       0.91      0.87      0.89       206\n",
            "\n",
            "    accuracy                           0.89       400\n",
            "   macro avg       0.89      0.89      0.89       400\n",
            "weighted avg       0.89      0.89      0.89       400\n",
            "\n",
            "[0.845, 0.86, 0.855, 0.845, 0.8925]\n"
          ]
        }
      ],
      "source": [
        "from sklearn.metrics import auc, accuracy_score, confusion_matrix, mean_squared_error\n",
        "from sklearn.ensemble import GradientBoostingClassifier\n",
        "from scipy.stats import uniform, randint\n",
        "\n",
        "kfold = KFold(n_splits=5, shuffle=True, random_state=42)\n",
        "scores = []\n",
        "pipeline = Pipeline(\n",
        "    [\n",
        "        (\"tfidf_vect\", TfidfVectorizer(strip_accents=None, lowercase=False, preprocessor=None, use_idf=True, norm=None, ngram_range=(1,2))),\n",
        "        (\"clf\", LinearSVC(C=0.1)),\n",
        "    ]\n",
        ")\n",
        "for train_index, test_index in kfold.split(X):\n",
        "    X_train, X_test = X[train_index], X[test_index]\n",
        "    y_train, y_test = y[train_index], y[test_index]\n",
        "    pipeline.fit(X_train, y_train)\n",
        "    y_pred = pipeline.predict(X_test)\n",
        "    scores.append(accuracy_score(y_test, y_pred))\n",
        "    print(classification_report(y_test, y_pred))\n",
        "print(scores)"
      ]
    },
    {
      "cell_type": "markdown",
      "source": [
        "Интерпретация найденных гиперпараметров. Найденное С со значеним 0.1 означает, что значение регуляризации мало и гиперплоскость, разделяющая объекты, имеет вид близкий к прямой. Меньшее значение имеет лучшую предсказательную силу. ngram 1,2 говорит о том, что лучше всего показывают себя последовательности из 1 и 2 слов (unigram, bigram)"
      ],
      "metadata": {
        "id": "VBbz7xWgJZOM"
      }
    }
  ],
  "metadata": {
    "colab": {
      "provenance": []
    },
    "kernelspec": {
      "display_name": "Python 3",
      "name": "python3"
    },
    "language_info": {
      "name": "python"
    }
  },
  "nbformat": 4,
  "nbformat_minor": 0
}